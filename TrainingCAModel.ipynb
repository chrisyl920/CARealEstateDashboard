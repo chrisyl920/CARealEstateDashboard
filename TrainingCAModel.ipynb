{
 "cells": [
  {
   "cell_type": "code",
   "execution_count": 40,
   "metadata": {},
   "outputs": [],
   "source": [
    "#Machine Learning Model to predict median house price based on Location (latitude/longitude)\n",
    "\n",
    "#Load Data Set\n",
    "import pandas as pd\n",
    "df = pd.read_csv(\"/Users/chrislu/Downloads/housing.csv\")\n"
   ]
  },
  {
   "cell_type": "code",
   "execution_count": 41,
   "metadata": {},
   "outputs": [],
   "source": [
    "#Set Variables\n",
    "x = df[['latitude','longitude']]\n",
    "y = df['median_house_value']\n"
   ]
  },
  {
   "cell_type": "code",
   "execution_count": 42,
   "metadata": {},
   "outputs": [],
   "source": [
    "from sklearn.model_selection import train_test_split\n"
   ]
  },
  {
   "cell_type": "code",
   "execution_count": 43,
   "metadata": {},
   "outputs": [],
   "source": [
    "#Split Data Set\n",
    "x_train, x_test, y_train, y_test = train_test_split(x,y,test_size=.2, random_state=100)"
   ]
  },
  {
   "cell_type": "code",
   "execution_count": 44,
   "metadata": {},
   "outputs": [],
   "source": [
    "#Training Model\n",
    "from sklearn.linear_model import LinearRegression\n",
    "model = LinearRegression()\n",
    "model.fit(x_train, y_train)\n",
    "\n",
    "#Predictions\n",
    "y_model_train_predict = model.predict(x_train)\n",
    "y_model_test_predict = model.predict(x_test)"
   ]
  },
  {
   "cell_type": "code",
   "execution_count": 45,
   "metadata": {},
   "outputs": [
    {
     "name": "stdout",
     "output_type": "stream",
     "text": [
      "Model Train MSE 10038564995.605913\n",
      "Model Train R2 0.24382407387161242\n",
      "Model Test MSE 10285451646.96813\n",
      "Model Test R2 0.2366429722282778\n"
     ]
    }
   ],
   "source": [
    "#Evaluate Accuracy of Model\n",
    "from sklearn.metrics import mean_squared_error, r2_score\n",
    "\n",
    "model_train_mse = mean_squared_error(y_train, y_model_train_predict)\n",
    "model_train_r2 = r2_score(y_train, y_model_train_predict)\n",
    "\n",
    "model_test_mse = mean_squared_error(y_test, y_model_test_predict)\n",
    "model_test_r2 = r2_score(y_test, y_model_test_predict)\n",
    "\n",
    "print('Model Train MSE', model_train_mse)\n",
    "print('Model Train R2', model_train_r2)\n",
    "print('Model Test MSE', model_test_mse)\n",
    "print('Model Test R2', model_test_r2)"
   ]
  },
  {
   "cell_type": "code",
   "execution_count": 46,
   "metadata": {},
   "outputs": [
    {
     "data": {
      "text/html": [
       "<div>\n",
       "<style scoped>\n",
       "    .dataframe tbody tr th:only-of-type {\n",
       "        vertical-align: middle;\n",
       "    }\n",
       "\n",
       "    .dataframe tbody tr th {\n",
       "        vertical-align: top;\n",
       "    }\n",
       "\n",
       "    .dataframe thead th {\n",
       "        text-align: right;\n",
       "    }\n",
       "</style>\n",
       "<table border=\"1\" class=\"dataframe\">\n",
       "  <thead>\n",
       "    <tr style=\"text-align: right;\">\n",
       "      <th></th>\n",
       "      <th>Method</th>\n",
       "      <th>Train MSE</th>\n",
       "      <th>Train R2</th>\n",
       "      <th>Test MSE</th>\n",
       "      <th>Test R2</th>\n",
       "    </tr>\n",
       "  </thead>\n",
       "  <tbody>\n",
       "    <tr>\n",
       "      <th>0</th>\n",
       "      <td>Linear Regression</td>\n",
       "      <td>10038564995.605913</td>\n",
       "      <td>0.243824</td>\n",
       "      <td>10285451646.96813</td>\n",
       "      <td>0.236643</td>\n",
       "    </tr>\n",
       "  </tbody>\n",
       "</table>\n",
       "</div>"
      ],
      "text/plain": [
       "              Method           Train MSE  Train R2           Test MSE  \\\n",
       "0  Linear Regression  10038564995.605913  0.243824  10285451646.96813   \n",
       "\n",
       "    Test R2  \n",
       "0  0.236643  "
      ]
     },
     "execution_count": 46,
     "metadata": {},
     "output_type": "execute_result"
    }
   ],
   "source": [
    "#Load into dataframe\n",
    "results = pd.DataFrame(['Linear Regression', model_train_mse, model_train_r2, model_test_mse, model_test_r2]).transpose()\n",
    "#name columns\n",
    "results.columns = ['Method', 'Train MSE', 'Train R2', 'Test MSE', 'Test R2']\n",
    "#print finishedDataframe\n",
    "results\n",
    "#Based on these results the model does not do great in predicting median house value"
   ]
  },
  {
   "cell_type": "code",
   "execution_count": 47,
   "metadata": {},
   "outputs": [],
   "source": [
    "#Train another Model\n",
    "from sklearn.ensemble import RandomForestRegressor\n",
    "rfr = RandomForestRegressor(max_depth=2, random_state=100)\n",
    "rfr.fit(x_train, y_train)\n",
    "y_rfr_train_predict = rfr.predict(x_train)\n",
    "y_rfr_test_predict = rfr.predict(x_test)\n"
   ]
  },
  {
   "cell_type": "code",
   "execution_count": 48,
   "metadata": {},
   "outputs": [
    {
     "name": "stdout",
     "output_type": "stream",
     "text": [
      "RFR Train MSE 11180109003.060965\n",
      "RFR Train R2 0.15783488144904223\n",
      "RFR Test MSE 11607730655.482422\n",
      "RFR Test R2 0.13850717727541884\n"
     ]
    }
   ],
   "source": [
    "rfr_train_mse = mean_squared_error(y_train, y_rfr_train_predict)\n",
    "rfr_train_r2 = r2_score(y_train, y_rfr_train_predict)\n",
    "rfr_test_mse = mean_squared_error(y_test, y_rfr_test_predict)\n",
    "rfr_test_r2 = r2_score(y_test, y_rfr_test_predict)\n",
    "print('RFR Train MSE', rfr_train_mse)\n",
    "print('RFR Train R2', rfr_train_r2)\n",
    "print('RFR Test MSE', rfr_test_mse)\n",
    "print('RFR Test R2', rfr_test_r2)"
   ]
  },
  {
   "cell_type": "code",
   "execution_count": 49,
   "metadata": {},
   "outputs": [
    {
     "data": {
      "text/html": [
       "<div>\n",
       "<style scoped>\n",
       "    .dataframe tbody tr th:only-of-type {\n",
       "        vertical-align: middle;\n",
       "    }\n",
       "\n",
       "    .dataframe tbody tr th {\n",
       "        vertical-align: top;\n",
       "    }\n",
       "\n",
       "    .dataframe thead th {\n",
       "        text-align: right;\n",
       "    }\n",
       "</style>\n",
       "<table border=\"1\" class=\"dataframe\">\n",
       "  <thead>\n",
       "    <tr style=\"text-align: right;\">\n",
       "      <th></th>\n",
       "      <th>Method</th>\n",
       "      <th>Train MSE</th>\n",
       "      <th>Train R2</th>\n",
       "      <th>Test MSE</th>\n",
       "      <th>Test R2</th>\n",
       "    </tr>\n",
       "  </thead>\n",
       "  <tbody>\n",
       "    <tr>\n",
       "      <th>0</th>\n",
       "      <td>LRandom Forest Regression</td>\n",
       "      <td>11180109003.060965</td>\n",
       "      <td>0.157835</td>\n",
       "      <td>11607730655.482422</td>\n",
       "      <td>0.138507</td>\n",
       "    </tr>\n",
       "  </tbody>\n",
       "</table>\n",
       "</div>"
      ],
      "text/plain": [
       "                      Method           Train MSE  Train R2  \\\n",
       "0  LRandom Forest Regression  11180109003.060965  0.157835   \n",
       "\n",
       "             Test MSE   Test R2  \n",
       "0  11607730655.482422  0.138507  "
      ]
     },
     "execution_count": 49,
     "metadata": {},
     "output_type": "execute_result"
    }
   ],
   "source": [
    "\n",
    "results2 = pd.DataFrame(['LRandom Forest Regression', rfr_train_mse, rfr_train_r2, rfr_test_mse, rfr_test_r2]).transpose()\n",
    "results2.columns = ['Method', 'Train MSE', 'Train R2', 'Test MSE', 'Test R2']\n",
    "results2"
   ]
  },
  {
   "cell_type": "code",
   "execution_count": 50,
   "metadata": {},
   "outputs": [],
   "source": [
    "#Neither of these models seemed to work that well so I may need to look into finding a model that better accommodates multiple x variables \n",
    "#Another thing I think may be the problem is latitiude and longitude have weird numbers so I may convert them to a better numerical value like Z-score\n",
    "\n",
    "from sklearn.preprocessing import StandardScaler\n",
    "\n",
    "coordinates = df[['latitude', 'longitude']]\n",
    "\n",
    "# Initialize a StandardScaler\n",
    "scaler = StandardScaler()\n",
    "\n",
    "# Fit and transform the scaler on the coordinates data\n",
    "scaled_coordinates = scaler.fit_transform(coordinates)\n",
    "\n",
    "# Create a DataFrame with the scaled data\n",
    "scaled_df = pd.DataFrame(scaled_coordinates, columns=['scaled_latitude', 'scaled_longitude'])\n",
    "\n"
   ]
  },
  {
   "cell_type": "code",
   "execution_count": 51,
   "metadata": {},
   "outputs": [
    {
     "name": "stdout",
     "output_type": "stream",
     "text": [
      "Model Train MSE 10038564995.605913\n",
      "Model Train R2 0.24382407387161242\n",
      "Model Test MSE 10285451646.968134\n",
      "Model Test R2 0.23664297222827746\n"
     ]
    }
   ],
   "source": [
    "#Linear Regression Pt 2 with scaled coordinates\n",
    "\n",
    "#Set Variables\n",
    "x = scaled_df[['scaled_latitude', 'scaled_longitude']]\n",
    "y = df['median_house_value']\n",
    "\n",
    "from sklearn.model_selection import train_test_split\n",
    "\n",
    "#Split Data Set\n",
    "x_train, x_test, y_train, y_test = train_test_split(x,y,test_size=.2, random_state=100)\n",
    "#Training Model\n",
    "from sklearn.linear_model import LinearRegression\n",
    "model = LinearRegression()\n",
    "model.fit(x_train, y_train)\n",
    "\n",
    "#Predictions\n",
    "y_model_train_predict = model.predict(x_train)\n",
    "y_model_test_predict = model.predict(x_test)\n",
    "#Evaluate Accuracy of Model\n",
    "from sklearn.metrics import mean_squared_error, r2_score\n",
    "\n",
    "model_train_mse = mean_squared_error(y_train, y_model_train_predict)\n",
    "model_train_r2 = r2_score(y_train, y_model_train_predict)\n",
    "\n",
    "model_test_mse = mean_squared_error(y_test, y_model_test_predict)\n",
    "model_test_r2 = r2_score(y_test, y_model_test_predict)\n",
    "\n",
    "print('Model Train MSE', model_train_mse)\n",
    "print('Model Train R2', model_train_r2)\n",
    "print('Model Test MSE', model_test_mse)\n",
    "print('Model Test R2', model_test_r2)\n",
    "\n",
    "#No change..... May need to delve deeper into the data"
   ]
  },
  {
   "cell_type": "code",
   "execution_count": 52,
   "metadata": {},
   "outputs": [],
   "source": [
    "\n"
   ]
  },
  {
   "cell_type": "code",
   "execution_count": null,
   "metadata": {},
   "outputs": [],
   "source": []
  },
  {
   "cell_type": "code",
   "execution_count": null,
   "metadata": {},
   "outputs": [],
   "source": []
  }
 ],
 "metadata": {
  "kernelspec": {
   "display_name": "Python 3",
   "language": "python",
   "name": "python3"
  },
  "language_info": {
   "codemirror_mode": {
    "name": "ipython",
    "version": 3
   },
   "file_extension": ".py",
   "mimetype": "text/x-python",
   "name": "python",
   "nbconvert_exporter": "python",
   "pygments_lexer": "ipython3",
   "version": "3.11.4"
  },
  "orig_nbformat": 4
 },
 "nbformat": 4,
 "nbformat_minor": 2
}
